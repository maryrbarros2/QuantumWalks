{
 "cells": [
  {
   "cell_type": "markdown",
   "id": "033af634",
   "metadata": {},
   "source": [
    "<b>Hadamard walk. </b>\n",
    "\n",
    "Reference: \"1D and 2D quantum walks with light transverse momentum\", Laurea Magistrale in Fisica, Chiara Esposito. (page 6)\n",
    "\n",
    "#### Coin operator\n",
    "$C \\ = \\ \\frac{1}{\\sqrt{2}}\\begin{pmatrix} 1 && 1 \\\\ -1 && 1 \\end{pmatrix} $\n",
    " \n",
    "#### Translation operator \n",
    " $T \\ =  \\ \\displaystyle\\sum_{j} \\ \\lvert j \\ + \\ 1\\rangle\\langle j\\lvert  \\ \\otimes \\ \\lvert R\\rangle\\langle R\\lvert + \\ \\displaystyle\\sum_{j} \\ \\lvert j \\ - \\ 1\\rangle\\langle j\\lvert \\otimes \\ \\lvert L\\rangle\\langle L\\lvert  \\$\n",
    " \n",
    "#### Protocol \n",
    "$U \\ = \\ T (C \\otimes I_p) $ "
   ]
  },
  {
   "cell_type": "code",
   "execution_count": 1,
   "id": "6b0e70a3",
   "metadata": {},
   "outputs": [],
   "source": [
    "from numpy import *\n",
    "import matplotlib as mpl\n",
    "from matplotlib.pyplot import *\n",
    "import pandas as pd\n",
    "from scipy.sparse import csr_matrix"
   ]
  },
  {
   "cell_type": "code",
   "execution_count": 2,
   "id": "df75285d",
   "metadata": {},
   "outputs": [],
   "source": [
    "N = 100  # number of random steps\n",
    "P = 2*N + 1   # number of positions"
   ]
  },
  {
   "cell_type": "code",
   "execution_count": 3,
   "id": "e8982d3d",
   "metadata": {},
   "outputs": [],
   "source": [
    "ket0 = array([1, 0])  # |0>\n",
    "ket1 = array([0, 1])  # |1>\n",
    "\n",
    "C00 = outer(ket0, ket0)  # |0><0| \n",
    "C01 = outer(ket0, ket1)  # |0><1| \n",
    "C10 = outer(ket1, ket0)  # |1><0| \n",
    "C11 = outer(ket1, ket1)  # |1><1| \n",
    "\n",
    "I = C00 + C11  #identity"
   ]
  },
  {
   "cell_type": "markdown",
   "id": "09b179f8",
   "metadata": {},
   "source": [
    "#### Coin\n",
    "\n",
    "$C =\\frac{1}{\\sqrt2} [ |0⟩_c⟨0|+|0⟩_c⟨1|-|1⟩_c⟨0|+|1⟩_c⟨1| ]$"
   ]
  },
  {
   "cell_type": "code",
   "execution_count": 4,
   "id": "6d9f5773",
   "metadata": {},
   "outputs": [],
   "source": [
    "#Coin\n",
    "C = (C00 + C01 - C10 + C11)/sqrt(2.) #coin operator for 1 qubit"
   ]
  },
  {
   "cell_type": "markdown",
   "id": "6969fb56",
   "metadata": {},
   "source": [
    "#### Translation operator \n",
    " $T \\ =  \\ \\displaystyle\\sum_{j} \\ \\lvert j \\ + \\ 1\\rangle\\langle j\\lvert  \\ \\otimes \\ \\lvert R\\rangle\\langle R\\lvert + \\ \\displaystyle\\sum_{j} \\ \\lvert j \\ - \\ 1\\rangle\\langle j\\lvert \\otimes \\ \\lvert L\\rangle\\langle L\\lvert  \\$"
   ]
  },
  {
   "cell_type": "code",
   "execution_count": 5,
   "id": "db0b53cd",
   "metadata": {},
   "outputs": [],
   "source": [
    "LPlus_ = eye(P)\n",
    "LPlus_ = LPlus_.tolist()\n",
    "LPluss = [row[1:] + row[:1] for row in LPlus_]\n",
    "LPlus = kron(LPluss, C00)\n",
    "\n",
    "LMinus_ = eye(P)\n",
    "LMinus_ = LMinus_.tolist()\n",
    "LMinuss = [row[-1:] + row[:-1] for row in LMinus_]\n",
    "LMinus = kron(LMinuss, C11)\n",
    "\n",
    "Tx = LPlus + LMinus"
   ]
  },
  {
   "cell_type": "markdown",
   "id": "75c429fa",
   "metadata": {},
   "source": [
    "#### Protocol \n",
    "$U \\ = \\ T (I_p\\otimes C) $ "
   ]
  },
  {
   "cell_type": "code",
   "execution_count": 6,
   "id": "70a1510c",
   "metadata": {},
   "outputs": [],
   "source": [
    "#Protocol\n",
    "U = Tx.dot(kron(eye(P), C))"
   ]
  },
  {
   "cell_type": "markdown",
   "id": "5ea5f5db",
   "metadata": {},
   "source": [
    "### Initial state\n",
    "$|ψ⟩_0=|coin⟩_0 \\otimes|posn⟩_0= \\frac{1}{\\sqrt2}(|0⟩c+i|1⟩c)⊗|0⟩p$"
   ]
  },
  {
   "cell_type": "code",
   "execution_count": 7,
   "id": "4dfa560e",
   "metadata": {},
   "outputs": [],
   "source": [
    "#Initial state\n",
    "initialPosition = zeros(P)\n",
    "initialPosition[N] = 1     # array indexing starts from 0, so index N is the central posn\n",
    "psi0 = kron(initialPosition,(ket0+ket1*1j)/sqrt(2.))"
   ]
  },
  {
   "cell_type": "markdown",
   "id": "7fb98843",
   "metadata": {},
   "source": [
    "### Final State\n",
    "$|ψ⟩_N=U^{N}|ψ⟩_0$"
   ]
  },
  {
   "cell_type": "code",
   "execution_count": 8,
   "id": "40916b37",
   "metadata": {},
   "outputs": [],
   "source": [
    "#State after N random quantum steps.\n",
    "psiN = linalg.matrix_power(U, N).dot(psi0) "
   ]
  },
  {
   "cell_type": "markdown",
   "id": "8f5cf958",
   "metadata": {},
   "source": [
    "### Measurement operator and position on the map\n",
    "$M_k=I_{c} \\otimes |k⟩_p⟨k|$"
   ]
  },
  {
   "cell_type": "code",
   "execution_count": 9,
   "id": "078a2982",
   "metadata": {},
   "outputs": [],
   "source": [
    "prob = empty(P)\n",
    "PositionMap=zeros([1, P])\n",
    "for k in range(P):\n",
    "    posn = zeros(P)\n",
    "    posn[k] = 1     \n",
    "    M_hat_k = kron( outer(posn,posn), eye(2))\n",
    "    proj = M_hat_k.dot(psiN)\n",
    "    prob[k] = proj.dot(proj.conjugate()).real\n",
    "    PositionMap[0][k]= prob[k]"
   ]
  },
  {
   "cell_type": "code",
   "execution_count": 10,
   "id": "9380f285",
   "metadata": {},
   "outputs": [
    {
     "data": {
      "image/png": "[encoded data removed]",
      "text/plain": [
       "<Figure size 432x288 with 1 Axes>"
      ]
     },
     "metadata": {
      "needs_background": "light"
     },
     "output_type": "display_data"
    }
   ],
   "source": [
    "#Plot\n",
    "fig = figure()\n",
    "ax = fig.add_subplot(111)\n",
    "\n",
    "plot(arange(P), prob)\n",
    "xlim(0, P)\n",
    "\n",
    "show()"
   ]
  },
  {
   "cell_type": "code",
   "execution_count": null,
   "id": "c1a8729b",
   "metadata": {},
   "outputs": [],
   "source": []
  }
 ],
 "metadata": {
  "kernelspec": {
   "display_name": "Python 3",
   "language": "python",
   "name": "python3"
  },
  "language_info": {
   "codemirror_mode": {
    "name": "ipython",
    "version": 3
   },
   "file_extension": ".py",
   "mimetype": "text/x-python",
   "name": "python",
   "nbconvert_exporter": "python",
   "pygments_lexer": "ipython3",
   "version": "3.8.8"
  }
 },
 "nbformat": 4,
 "nbformat_minor": 5
}
