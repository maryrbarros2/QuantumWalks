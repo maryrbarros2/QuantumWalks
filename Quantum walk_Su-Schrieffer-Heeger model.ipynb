{
 "cells": [
  {
   "cell_type": "markdown",
   "id": "7990727e",
   "metadata": {},
   "source": [
    "Simulation of the QW presented in the paper: PHYSICAL REVIEW RESEARCH 2, 023119 (2020)\n",
    "\n",
    "Hamiltonian: Su-Schrieffer-Heeger model (is a Chiral hamiltonian)"
   ]
  },
  {
   "cell_type": "code",
   "execution_count": 1,
   "id": "8972fa7d",
   "metadata": {},
   "outputs": [],
   "source": [
    "from numpy import *\n",
    "import matplotlib as mpl\n",
    "from matplotlib.pyplot import *"
   ]
  },
  {
   "cell_type": "code",
   "execution_count": 2,
   "id": "5d286dac",
   "metadata": {},
   "outputs": [],
   "source": [
    "N = 1    # number of random steps\n",
    "P = 2*N+1    # number of positions"
   ]
  },
  {
   "cell_type": "markdown",
   "id": "6e9e105e",
   "metadata": {},
   "source": [
    "### Coin operator\n",
    "\n",
    " $C \\ = \\ \\frac{1}{\\sqrt{2}}\\begin{pmatrix} 1 && i \\\\ i && 1 \\end{pmatrix} $"
   ]
  },
  {
   "cell_type": "code",
   "execution_count": 3,
   "id": "d9bedc08",
   "metadata": {},
   "outputs": [],
   "source": [
    "#1 qubit\n",
    "ket0 = array([1, 0])  # |0>\n",
    "ket1 = array([0, 1])  # |1>"
   ]
  },
  {
   "cell_type": "code",
   "execution_count": 4,
   "id": "90b3c3bf",
   "metadata": {},
   "outputs": [],
   "source": [
    "C00 = outer(ket0, ket0)  # |0><0| \n",
    "C01 = outer(ket0, ket1)  # |0><1| \n",
    "C10 = outer(ket1, ket0)  # |1><0| \n",
    "C11 = outer(ket1, ket1)  # |1><1| \n",
    "\n",
    "I = C00 + C11  #identity"
   ]
  },
  {
   "cell_type": "code",
   "execution_count": 5,
   "id": "6b3d602b",
   "metadata": {},
   "outputs": [],
   "source": [
    "C = (C00 + 1j *C01 + 1j * C10 + C11)/sqrt(2.) #coin operator for 1 qubit\n",
    "Coin = kron(eye(P), C) #coin operator on the expanded space"
   ]
  },
  {
   "cell_type": "markdown",
   "id": "204bf95f",
   "metadata": {},
   "source": [
    "### Position on a line\n",
    "In ket notation, we can write the fully general position of the walker on the line as an arbitrary superposition of the P possible states:\n",
    "$$|position⟩=\\sum_k \\alpha_k|k \\rangle_p$$\n",
    "\n",
    "where $\\sum_k|\\alpha_k|^2=1$.\n",
    "\n",
    "### Translation operator\n",
    "Translation operator moves left or right along the line, depending on the value of the coin. For $\\delta = \\pi/4$:\n",
    "\n",
    "$$Tx  = \\sqrt{2}/2 [\\lvert 0\\rangle\\langle0\\lvert+ \\lvert 1\\rangle\\langle1\\lvert+ i \\ \\lvert 0\\rangle\\langle1\\lvert  \\ \\otimes \\ \\displaystyle\\sum_{x} \\ \\lvert x \\ - \\ 1\\rangle\\langle x\\lvert  \\ + i\\ \\lvert 1\\rangle\\langle0\\lvert  \\ \\otimes \\ \\displaystyle\\sum_{x} \\ \\lvert x \\ + \\ 1\\rangle\\langle x\\lvert] $$\n",
    "\n",
    "$$Tx  = \\sqrt{2}/2 [I + i \\ \\lvert 0\\rangle\\langle1\\lvert  \\ \\otimes \\ \\displaystyle\\sum_{x} \\ \\lvert x \\ - \\ 1\\rangle\\langle x\\lvert  \\ + i\\ \\lvert 1\\rangle\\langle0\\lvert  \\ \\otimes \\ \\displaystyle\\sum_{x} \\ \\lvert x \\ + \\ 1\\rangle\\langle x\\lvert] $$\n",
    "\n",
    "We assume the line is actually on a circle, so the positions at the ends wrap around.  However, we will always make the circle big enough so that this doesn’t happen during a walk.  The tensor product ⊗ is implemented with the NumPy kron operation:"
   ]
  },
  {
   "cell_type": "code",
   "execution_count": 6,
   "id": "8ff2efeb",
   "metadata": {},
   "outputs": [],
   "source": [
    "LPlus_ = eye(P)\n",
    "LPlus_ = LPlus_.tolist()\n",
    "LPluss = [row[1:] + row[:1] for row in LPlus_]\n",
    "LPlus = kron(LPluss, C00)\n",
    "\n",
    "LMinus_ = eye(P)\n",
    "LMinus_ = LMinus_.tolist()\n",
    "LMinuss = [row[-1:] + row[:-1] for row in LMinus_]\n",
    "LMinus = kron(LMinuss, C11)\n",
    "\n",
    "#Tx\n",
    "Tx = LPlus + LMinus"
   ]
  },
  {
   "cell_type": "markdown",
   "id": "7fa8edfc",
   "metadata": {},
   "source": [
    "### Walk operator\n",
    "The walk operator combines the coin operator on the coin state, and a step operator on the combined coin and position state:\n",
    "\n",
    "  $$U \\ = \\ T \\ C $$"
   ]
  },
  {
   "cell_type": "code",
   "execution_count": 7,
   "id": "f5aec5ca",
   "metadata": {},
   "outputs": [],
   "source": [
    "#For one dimension\n",
    "U= Tx.dot(Coin)"
   ]
  },
  {
   "cell_type": "markdown",
   "id": "7011ebc2",
   "metadata": {},
   "source": [
    "### Initial state\n",
    "Let’s take the initial state of the system to be a coin in a superposition of left and right, and the walker at position 0:\n",
    "$$|\\psi⟩_0=|coin\\rangle_0⊗|posn\\rangle_0 = 1/\\sqrt{2}(|0\\rangle+i|1\\rangle)⊗|0\\rangle p$$\n",
    "\n",
    "For 2 particles, encoding |x, y, coin>, we have:\n",
    "\n",
    "$$|\\psi⟩_0 = \\frac{1}{\\sqrt{2}}(|0 0 R\\rangle+ |0 0 L\\rangle)$$"
   ]
  },
  {
   "cell_type": "code",
   "execution_count": 8,
   "id": "2f7af774",
   "metadata": {},
   "outputs": [],
   "source": [
    "#one particle case\n",
    "initialPosition = zeros(P)\n",
    "initialPosition[N] = 1     # array indexing starts from 0, so index N is the central posn\n",
    "psi0 = kron(initialPosition,(ket0+ket1)/sqrt(2.)) "
   ]
  },
  {
   "cell_type": "code",
   "execution_count": 9,
   "id": "43739748",
   "metadata": {},
   "outputs": [
    {
     "data": {
      "text/plain": [
       "array([0.        , 0.        , 0.70710678, 0.70710678, 0.        ,\n",
       "       0.        ])"
      ]
     },
     "execution_count": 9,
     "metadata": {},
     "output_type": "execute_result"
    }
   ],
   "source": [
    "psi0"
   ]
  },
  {
   "cell_type": "markdown",
   "id": "618eb266",
   "metadata": {},
   "source": [
    "### State after N steps\n",
    "Then walking N steps is just applying the walk operator N times:\n",
    "$$|ψ⟩_N = U^N|ψ⟩_0 $$\n"
   ]
  },
  {
   "cell_type": "code",
   "execution_count": 10,
   "id": "158f2219",
   "metadata": {},
   "outputs": [],
   "source": [
    "psiN = linalg.matrix_power(U, N).dot(psi0) #the state of the system after N random quantum steps."
   ]
  },
  {
   "cell_type": "markdown",
   "id": "58e1ef52",
   "metadata": {},
   "source": [
    "### Measurement operator\n",
    "We can measure the state at position k using the measurement operator\n",
    "$$M_k=I_c \\otimes |k⟩_p⟨k|$$\n",
    "\n",
    "We can use this to build up an array of probabilities, by taking the modulus squared of the state value at each position. (We can calculate the whole distribution in one go in simulation, but we would only get one measurement per experiment on the real quantum system.)"
   ]
  },
  {
   "cell_type": "code",
   "execution_count": 11,
   "id": "66e17390",
   "metadata": {},
   "outputs": [],
   "source": [
    "#Measurement operator\n",
    "prob = empty(P)\n",
    "PositionMap=zeros([1, P])\n",
    "label = []\n",
    "for k in range(P):\n",
    "    posn = zeros(P)\n",
    "    posn[k] = 1     \n",
    "    M_hat_k = kron( outer(posn,posn), eye(2))\n",
    "    proj = M_hat_k.dot(psiN)\n",
    "    prob[k] = proj.dot(proj.conjugate()).real\n",
    "    PositionMap[0][k] = prob[k]\n",
    "    label.append(prob[k])"
   ]
  },
  {
   "cell_type": "code",
   "execution_count": 12,
   "id": "7b612686",
   "metadata": {},
   "outputs": [
    {
     "data": {
      "text/plain": [
       "array([[0.5, 0. , 0.5]])"
      ]
     },
     "execution_count": 12,
     "metadata": {},
     "output_type": "execute_result"
    }
   ],
   "source": [
    "PositionMap"
   ]
  },
  {
   "cell_type": "markdown",
   "id": "6cfe93f4",
   "metadata": {},
   "source": [
    "### Plot the distribution"
   ]
  },
  {
   "cell_type": "code",
   "execution_count": 13,
   "id": "bb4b089c",
   "metadata": {},
   "outputs": [],
   "source": [
    "def Plot2D(qw, steps):\n",
    "    figure(1)\n",
    "    ax1 = subplot(111)\n",
    "    sca(ax1)\n",
    "    title('2D distribution of %s steps Quantum Walk with hadamard coin' % steps)\n",
    "    xlabel('X Position (started in center)')\n",
    "    imshow(qw)"
   ]
  },
  {
   "cell_type": "code",
   "execution_count": 14,
   "id": "ba6a118c",
   "metadata": {},
   "outputs": [
    {
     "data": {
      "image/png": "[encoded data removed]",
      "text/plain": [
       "<Figure size 432x288 with 1 Axes>"
      ]
     },
     "metadata": {
      "needs_background": "light"
     },
     "output_type": "display_data"
    }
   ],
   "source": [
    "Plot2D(PositionMap,N)"
   ]
  },
  {
   "cell_type": "code",
   "execution_count": 15,
   "id": "0772a75d",
   "metadata": {},
   "outputs": [
    {
     "data": {
      "image/png": "[encoded data removed]",
      "text/plain": [
       "<Figure size 432x288 with 1 Axes>"
      ]
     },
     "metadata": {
      "needs_background": "light"
     },
     "output_type": "display_data"
    }
   ],
   "source": [
    "fig = figure()\n",
    "ax = fig.add_subplot(111)\n",
    "\n",
    "plot(arange(P), prob)\n",
    "xlim(0, P)\n",
    "\n",
    "show()"
   ]
  },
  {
   "cell_type": "markdown",
   "id": "e98348de",
   "metadata": {},
   "source": [
    "## Translation Operator for $\\delta = \\pi$"
   ]
  },
  {
   "cell_type": "code",
   "execution_count": 16,
   "id": "b9471e1f",
   "metadata": {},
   "outputs": [],
   "source": [
    "LPlus = roll(eye(P), 1, axis=0)\n",
    "LMinus = roll(eye(P), -1, axis=0)\n",
    "a = 0 #math.pi/2\n",
    "Ipi = I * math.cos(a/2)\n",
    "Txpi = (1j *math.sin(a/2)*kron(LPlus, C10) + 1j* math.sin(a/2)*kron(LMinus, C01) + kron(eye(P), Ipi))*sqrt(2.)/2"
   ]
  },
  {
   "cell_type": "markdown",
   "id": "e8b830d6",
   "metadata": {},
   "source": [
    "### Solving for this new T"
   ]
  },
  {
   "cell_type": "code",
   "execution_count": 17,
   "id": "42297927",
   "metadata": {},
   "outputs": [],
   "source": [
    "Upi = Txpi.dot(Coin)"
   ]
  },
  {
   "cell_type": "code",
   "execution_count": 18,
   "id": "5405fe45",
   "metadata": {},
   "outputs": [],
   "source": [
    "initialPosition = zeros(P)\n",
    "initialPosition[N] = 1     # array indexing starts from 0, so index N is the central posn\n",
    "psi0 = kron(initialPosition,(ket0+ket1)/sqrt(2.))"
   ]
  },
  {
   "cell_type": "code",
   "execution_count": 19,
   "id": "2cd814ad",
   "metadata": {},
   "outputs": [],
   "source": [
    "psiNpi = linalg.matrix_power(Upi, N).dot(psi0) #the state of the system after N random quantum steps."
   ]
  },
  {
   "cell_type": "code",
   "execution_count": 20,
   "id": "e966935e",
   "metadata": {},
   "outputs": [],
   "source": [
    "#Measurement operator\n",
    "probpi = empty(P)\n",
    "PositionMappi=zeros([1, P])\n",
    "for k in range(P):\n",
    "    posnpi = zeros(P)\n",
    "    posnpi[k] = 1     \n",
    "    M_hat_kpi = kron( outer(posnpi,posnpi), eye(2))\n",
    "    projpi = M_hat_kpi.dot(psiNpi)\n",
    "    probpi[k] = projpi.dot(projpi.conjugate()).real\n",
    "    PositionMappi[0][k] = probpi[k]"
   ]
  },
  {
   "cell_type": "code",
   "execution_count": 21,
   "id": "d929f568",
   "metadata": {},
   "outputs": [
    {
     "data": {
      "text/plain": [
       "array([[0. , 0.5, 0. ]])"
      ]
     },
     "execution_count": 21,
     "metadata": {},
     "output_type": "execute_result"
    }
   ],
   "source": [
    "PositionMappi"
   ]
  },
  {
   "cell_type": "code",
   "execution_count": 22,
   "id": "56d4dc1f",
   "metadata": {},
   "outputs": [
    {
     "data": {
      "image/png": "[encoded data removed]",
      "text/plain": [
       "<Figure size 432x288 with 1 Axes>"
      ]
     },
     "metadata": {
      "needs_background": "light"
     },
     "output_type": "display_data"
    }
   ],
   "source": [
    "Plot2D(PositionMappi,N)"
   ]
  },
  {
   "cell_type": "code",
   "execution_count": 23,
   "id": "93f41470",
   "metadata": {},
   "outputs": [
    {
     "data": {
      "image/png": "[encoded data removed]",
      "text/plain": [
       "<Figure size 432x288 with 1 Axes>"
      ]
     },
     "metadata": {
      "needs_background": "light"
     },
     "output_type": "display_data"
    }
   ],
   "source": [
    "fig2 = figure()\n",
    "ax2 = fig2.add_subplot(111)\n",
    "\n",
    "plot(arange(P), probpi)\n",
    "xlim(0, P)\n",
    "\n",
    "\n",
    "show()"
   ]
  },
  {
   "cell_type": "code",
   "execution_count": null,
   "id": "67fc2d45",
   "metadata": {},
   "outputs": [],
   "source": []
  }
 ],
 "metadata": {
  "kernelspec": {
   "display_name": "Python 3",
   "language": "python",
   "name": "python3"
  },
  "language_info": {
   "codemirror_mode": {
    "name": "ipython",
    "version": 3
   },
   "file_extension": ".py",
   "mimetype": "text/x-python",
   "name": "python",
   "nbconvert_exporter": "python",
   "pygments_lexer": "ipython3",
   "version": "3.8.8"
  }
 },
 "nbformat": 4,
 "nbformat_minor": 5
}
