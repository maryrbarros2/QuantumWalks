{
 "cells": [
  {
   "cell_type": "markdown",
   "id": "d2b09d61",
   "metadata": {},
   "source": [
    "\n",
    "==> Hadamard walk in 1D, but represented in a 2D space\n",
    "\n",
    "#### Coin operator\n",
    "\n",
    " $C \\ = \\ \\frac{1}{\\sqrt{2}}\\begin{pmatrix} 1 && 1 \\\\ -1 && 1 \\end{pmatrix} $\n",
    " \n",
    "#### Translation operators \n",
    " $Tx \\ =  Ix \\otimes Iy \\otimes Ip $\n",
    "  \n",
    "  $Ty \\ = Ix \\otimes \\ \\displaystyle\\sum_{y} \\ \\lvert y \\ + \\ 1\\rangle\\langle y\\lvert  \\ \\otimes \\ \\lvert R\\rangle\\langle R\\lvert  \\ + Ix \\otimes \\ \\displaystyle\\sum_{y} \\ \\lvert y \\ - \\ 1\\rangle\\langle y\\lvert \\otimes \\ \\lvert L \\rangle\\langle L\\lvert  \\ $\n",
    "\n",
    "#### Protocol \n",
    "$U \\ = \\ Ty Tx (C \\otimes Ix \\otimes Iy) $ \n",
    "\n"
   ]
  },
  {
   "cell_type": "code",
   "execution_count": 1,
   "id": "d1470c4c",
   "metadata": {},
   "outputs": [],
   "source": [
    "from numpy import *\n",
    "import matplotlib as mpl\n",
    "from matplotlib.pyplot import *\n",
    "import pandas as pd\n",
    "from scipy.sparse import csr_matrix"
   ]
  },
  {
   "cell_type": "code",
   "execution_count": 43,
   "id": "0273649f",
   "metadata": {},
   "outputs": [],
   "source": [
    "N = 2  # number of random steps\n",
    "P = 2*N+1   # number of positions"
   ]
  },
  {
   "cell_type": "code",
   "execution_count": 44,
   "id": "8536daae",
   "metadata": {},
   "outputs": [],
   "source": [
    "ket0 = array([1, 0])  # |0>\n",
    "ket1 = array([0, 1])  # |1>\n",
    "\n",
    "C00 = outer(ket0, ket0)  # |0><0| \n",
    "C01 = outer(ket0, ket1)  # |0><1| \n",
    "C10 = outer(ket1, ket0)  # |1><0| \n",
    "C11 = outer(ket1, ket1)  # |1><1| \n",
    "\n",
    "I = C00 + C11  #identity"
   ]
  },
  {
   "cell_type": "code",
   "execution_count": 45,
   "id": "3bce9709",
   "metadata": {},
   "outputs": [],
   "source": [
    "#Coin\n",
    "C = (C00 + C01 - C10 + C11)/sqrt(2.) "
   ]
  },
  {
   "cell_type": "code",
   "execution_count": 46,
   "id": "4d35ca6e",
   "metadata": {},
   "outputs": [],
   "source": [
    "iden = csr_matrix((P, P),dtype = np.int8).toarray()\n",
    "for i in range(P):\n",
    "    iden[i][i] = 1"
   ]
  },
  {
   "cell_type": "code",
   "execution_count": 47,
   "id": "45afe068",
   "metadata": {},
   "outputs": [],
   "source": [
    "def Plot2D(qw, steps):\n",
    "    figure(1)\n",
    "    ax1 = subplot(111)\n",
    "    sca(ax1)\n",
    "    title('2D distribution of %s steps Quantum Walk with hadamard coin' % steps)\n",
    "    xlabel('X Position (started in center)')\n",
    "    imshow(qw)"
   ]
  },
  {
   "cell_type": "markdown",
   "id": "d77050e0",
   "metadata": {},
   "source": [
    "### Translation operators"
   ]
  },
  {
   "cell_type": "markdown",
   "id": "30a2c196",
   "metadata": {},
   "source": [
    "#### Tx"
   ]
  },
  {
   "cell_type": "code",
   "execution_count": 48,
   "id": "28e43e40",
   "metadata": {},
   "outputs": [
    {
     "data": {
      "text/plain": [
       "(50, 50)"
      ]
     },
     "execution_count": 48,
     "metadata": {},
     "output_type": "execute_result"
    }
   ],
   "source": [
    "LPs = roll(iden, 1, axis=0)\n",
    "LP = kron(iden,kron(LPs, C00))\n",
    "\n",
    "LMs = roll(iden, -1, axis=0)\n",
    "LM = kron(iden, kron(LMs, C11))\n",
    "\n",
    "Tx = LP + LM\n",
    "shape(Tx)"
   ]
  },
  {
   "cell_type": "markdown",
   "id": "7e88b8f4",
   "metadata": {},
   "source": [
    "#### Ty"
   ]
  },
  {
   "cell_type": "code",
   "execution_count": 49,
   "id": "fa2b7f18",
   "metadata": {},
   "outputs": [
    {
     "data": {
      "text/plain": [
       "50"
      ]
     },
     "execution_count": 49,
     "metadata": {},
     "output_type": "execute_result"
    }
   ],
   "source": [
    "range_ = kron(iden, kron(iden, eye(2)))\n",
    "rangee = shape(range_)\n",
    "rangeee = rangee[0]\n",
    "rangeee"
   ]
  },
  {
   "cell_type": "code",
   "execution_count": 50,
   "id": "b40eaed8",
   "metadata": {},
   "outputs": [
    {
     "data": {
      "text/plain": [
       "(50, 50)"
      ]
     },
     "execution_count": 50,
     "metadata": {},
     "output_type": "execute_result"
    }
   ],
   "source": [
    "#Making Ty = Iy\n",
    "Ty = csr_matrix((rangeee, rangeee), dtype = float).toarray()\n",
    "for i in range(rangeee):\n",
    "    Ty[i][i] = 1\n",
    "\n",
    "shape(Ty)    "
   ]
  },
  {
   "cell_type": "markdown",
   "id": "90159d84",
   "metadata": {},
   "source": [
    "### Protocol \n",
    "\n",
    "$Coin = Ix \\otimes Iy \\otimes C $\n",
    "\n",
    "$U = Ty Tx Coin$"
   ]
  },
  {
   "cell_type": "code",
   "execution_count": 51,
   "id": "ae2f7681",
   "metadata": {},
   "outputs": [
    {
     "data": {
      "text/plain": [
       "(50, 50)"
      ]
     },
     "execution_count": 51,
     "metadata": {},
     "output_type": "execute_result"
    }
   ],
   "source": [
    "#Protocol\n",
    "Coin = kron(eye(P), kron(eye(P),C))\n",
    "U = Ty.dot(Tx.dot(Coin))\n",
    "\n",
    "shape(U)"
   ]
  },
  {
   "cell_type": "markdown",
   "id": "31087574",
   "metadata": {},
   "source": [
    "### Initial State"
   ]
  },
  {
   "cell_type": "code",
   "execution_count": 52,
   "id": "eaba2d19",
   "metadata": {},
   "outputs": [
    {
     "data": {
      "text/plain": [
       "(50,)"
      ]
     },
     "execution_count": 52,
     "metadata": {},
     "output_type": "execute_result"
    }
   ],
   "source": [
    "initialPositionx = zeros(P)\n",
    "initialPositionx[N] = 1\n",
    "initialPositiony = zeros(P)\n",
    "initialPositiony[N] = 1\n",
    "\n",
    "psi0 = kron(initialPositionx,kron(initialPositiony,(ket0+ket1*1j)/sqrt(2.)))\n",
    "    \n",
    "shape(psi0)    "
   ]
  },
  {
   "cell_type": "markdown",
   "id": "9ac9a6f5",
   "metadata": {},
   "source": [
    "### Final State"
   ]
  },
  {
   "cell_type": "code",
   "execution_count": 53,
   "id": "f7923340",
   "metadata": {},
   "outputs": [
    {
     "data": {
      "text/plain": [
       "(50,)"
      ]
     },
     "execution_count": 53,
     "metadata": {},
     "output_type": "execute_result"
    }
   ],
   "source": [
    "#State after N random quantum steps.\n",
    "psiN = linalg.matrix_power(U, N).dot(psi0) \n",
    "\n",
    "shape(psiN)    "
   ]
  },
  {
   "cell_type": "markdown",
   "id": "c48ce0d6",
   "metadata": {},
   "source": [
    "### Measurement operator and position on the map"
   ]
  },
  {
   "cell_type": "code",
   "execution_count": 54,
   "id": "198c0030",
   "metadata": {},
   "outputs": [],
   "source": [
    "xy_probability = csr_matrix((P, P), dtype = float).toarray()\n",
    "for x in range(P):\n",
    "    positionx = zeros(P)\n",
    "    positionx[x] = 1\n",
    "    for y in range(P):\n",
    "        positiony = zeros(P)\n",
    "        positiony[y] = 1\n",
    "        for p in range(2): \n",
    "            polarization = zeros(2)\n",
    "            polarization[p] = 1\n",
    "            posn = kron(positionx,positiony) \n",
    "            M_hat_k = M_hat_k =kron(outer(posn,posn), eye(2)) \n",
    "            proj = M_hat_k.dot(psiN)\n",
    "            xy_probability[x][y] = proj.dot(proj.conjugate()).real\n"
   ]
  },
  {
   "cell_type": "code",
   "execution_count": 55,
   "id": "a326c226",
   "metadata": {},
   "outputs": [
    {
     "data": {
      "text/plain": [
       "array([[0.  , 0.  , 0.  , 0.  , 0.  ],\n",
       "       [0.  , 0.  , 0.  , 0.  , 0.  ],\n",
       "       [0.25, 0.  , 0.5 , 0.  , 0.25],\n",
       "       [0.  , 0.  , 0.  , 0.  , 0.  ],\n",
       "       [0.  , 0.  , 0.  , 0.  , 0.  ]])"
      ]
     },
     "execution_count": 55,
     "metadata": {},
     "output_type": "execute_result"
    }
   ],
   "source": [
    "xy_probability"
   ]
  },
  {
   "cell_type": "code",
   "execution_count": 57,
   "id": "3eebd42f",
   "metadata": {},
   "outputs": [
    {
     "data": {
      "image/png": "[encoded data removed]",
      "text/plain": [
       "<Figure size 432x288 with 1 Axes>"
      ]
     },
     "metadata": {
      "needs_background": "light"
     },
     "output_type": "display_data"
    }
   ],
   "source": [
    "Plot2D(xy_probability,2)"
   ]
  },
  {
   "cell_type": "code",
   "execution_count": 56,
   "id": "33a38105",
   "metadata": {},
   "outputs": [
    {
     "data": {
      "image/png": "[encoded data removed]",
      "text/plain": [
       "<Figure size 432x288 with 1 Axes>"
      ]
     },
     "metadata": {
      "needs_background": "light"
     },
     "output_type": "display_data"
    }
   ],
   "source": [
    "#Plot\n",
    "fig = figure()\n",
    "ax = fig.add_subplot(111)\n",
    "\n",
    "plot(arange(P), xy_probability)\n",
    "title(\"N = 2\")\n",
    "xlim(0, P)\n",
    "\n",
    "show()"
   ]
  },
  {
   "cell_type": "code",
   "execution_count": 22,
   "id": "c001d419",
   "metadata": {},
   "outputs": [
    {
     "data": {
      "image/png": "[encoded data removed]",
      "text/plain": [
       "<Figure size 432x288 with 1 Axes>"
      ]
     },
     "metadata": {
      "needs_background": "light"
     },
     "output_type": "display_data"
    }
   ],
   "source": [
    "Plot2D(xy_probability,1)"
   ]
  },
  {
   "cell_type": "code",
   "execution_count": 19,
   "id": "bdca1387",
   "metadata": {},
   "outputs": [
    {
     "data": {
      "image/png": "[encoded data removed]",
      "text/plain": [
       "<Figure size 432x288 with 1 Axes>"
      ]
     },
     "metadata": {
      "needs_background": "light"
     },
     "output_type": "display_data"
    }
   ],
   "source": [
    "#Plot\n",
    "fig = figure()\n",
    "ax = fig.add_subplot(111)\n",
    "\n",
    "plot(arange(P), xy_probability)\n",
    "title(\"N = 1\")\n",
    "xlim(0, P)\n",
    "\n",
    "show()"
   ]
  },
  {
   "cell_type": "markdown",
   "id": "9dffe6ee",
   "metadata": {},
   "source": [
    "==>  Hadamard walk in 1D, but represented in a 2D space\n",
    "\n",
    "#### Coin operator\n",
    "\n",
    " $C \\ = \\ \\frac{1}{\\sqrt{2}}\\begin{pmatrix} 1 && 1 \\\\ -1 && 1 \\end{pmatrix} $\n",
    " \n",
    "#### Translation operators \n",
    " $Tx \\ = \\ \\displaystyle\\sum_{x} \\ \\lvert x \\ + \\ 1\\rangle\\langle x\\lvert  \\ \\otimes Iy \\otimes \\lvert R\\rangle\\langle R\\lvert  \\ \\otimes \\ + \\displaystyle\\sum_{x} \\ \\lvert x \\ - \\ 1\\rangle\\langle x\\lvert \\otimes Iy \\otimes\\ \\lvert L \\rangle\\langle L\\lvert  \\  $\n",
    " \n",
    "  $Ty \\ =  Ix \\otimes Iy \\otimes Ip  \\ $\n",
    "#### Protocol \n",
    "$U \\ = \\ Ty Tx (C \\otimes Ix \\otimes Iy) $ \n"
   ]
  },
  {
   "cell_type": "code",
   "execution_count": 58,
   "id": "189ee950",
   "metadata": {},
   "outputs": [
    {
     "data": {
      "text/plain": [
       "(50, 50)"
      ]
     },
     "execution_count": 58,
     "metadata": {},
     "output_type": "execute_result"
    }
   ],
   "source": [
    "#Translation operator in y\n",
    "\n",
    "LPlus_ = eye(P)\n",
    "LPlus_ = LPlus_.tolist()\n",
    "LPluss = [row[1:] + row[:1] for row in LPlus_]\n",
    "LPlus = kron(LPluss, kron(eye(P), C00))\n",
    "\n",
    "LMinus_ = eye(P)\n",
    "LMinus_ = LMinus_.tolist()\n",
    "LMinuss = [row[-1:] + row[:-1] for row in LMinus_]\n",
    "LMinus = kron(LMinuss, kron(eye(P), C11))\n",
    "\n",
    "#Tx\n",
    "Ty = LPlus + LMinus\n",
    "\n",
    "shape(Ty)"
   ]
  },
  {
   "cell_type": "code",
   "execution_count": 59,
   "id": "f340fed1",
   "metadata": {},
   "outputs": [],
   "source": [
    "#Making Tx = Ix\n",
    "Tx = csr_matrix((rangeee, rangeee), dtype = float).toarray()\n",
    "for i in range(rangeee):\n",
    "    Tx[i][i] = 1"
   ]
  },
  {
   "cell_type": "code",
   "execution_count": 60,
   "id": "b86d625a",
   "metadata": {},
   "outputs": [
    {
     "data": {
      "text/plain": [
       "(50, 50)"
      ]
     },
     "execution_count": 60,
     "metadata": {},
     "output_type": "execute_result"
    }
   ],
   "source": [
    "#Protocol\n",
    "Coin = kron(eye(P), kron(eye(P),C))\n",
    "U = Ty.dot(Tx.dot(Coin))\n",
    "\n",
    "shape(U)"
   ]
  },
  {
   "cell_type": "code",
   "execution_count": 61,
   "id": "6bca961a",
   "metadata": {},
   "outputs": [],
   "source": [
    "initialPositionx = zeros(P)\n",
    "initialPositionx[N] = 1\n",
    "initialPositiony = zeros(P)\n",
    "initialPositiony[N] = 1\n",
    "\n",
    "psi0 = kron(initialPositionx,kron(initialPositiony,(ket0+ket1*1j)/sqrt(2.)))\n"
   ]
  },
  {
   "cell_type": "code",
   "execution_count": 62,
   "id": "05817960",
   "metadata": {},
   "outputs": [],
   "source": [
    "#State after N random quantum steps.\n",
    "psiN = linalg.matrix_power(U, N).dot(psi0) \n"
   ]
  },
  {
   "cell_type": "code",
   "execution_count": 63,
   "id": "1ea7ee2e",
   "metadata": {},
   "outputs": [],
   "source": [
    "xy_probability = csr_matrix((P, P), dtype = float).toarray()\n",
    "for x in range(P):\n",
    "    positionx = zeros(P)\n",
    "    positionx[x] = 1\n",
    "    for y in range(P):\n",
    "        positiony = zeros(P)\n",
    "        positiony[y] = 1\n",
    "        for p in range(2): \n",
    "            polarization = zeros(2)\n",
    "            polarization[p] = 1\n",
    "            posn = kron(positionx,positiony) \n",
    "            M_hat_k = M_hat_k =kron(outer(posn,posn), eye(2)) \n",
    "            proj = M_hat_k.dot(psiN)\n",
    "            xy_probability[x][y] = proj.dot(proj.conjugate()).real"
   ]
  },
  {
   "cell_type": "code",
   "execution_count": 64,
   "id": "90c76bc4",
   "metadata": {},
   "outputs": [
    {
     "data": {
      "text/plain": [
       "array([[0.  , 0.  , 0.25, 0.  , 0.  ],\n",
       "       [0.  , 0.  , 0.  , 0.  , 0.  ],\n",
       "       [0.  , 0.  , 0.5 , 0.  , 0.  ],\n",
       "       [0.  , 0.  , 0.  , 0.  , 0.  ],\n",
       "       [0.  , 0.  , 0.25, 0.  , 0.  ]])"
      ]
     },
     "execution_count": 64,
     "metadata": {},
     "output_type": "execute_result"
    }
   ],
   "source": [
    "xy_probability"
   ]
  },
  {
   "cell_type": "code",
   "execution_count": 65,
   "id": "786f98d2",
   "metadata": {},
   "outputs": [
    {
     "data": {
      "image/png": "[encoded data removed]",
      "text/plain": [
       "<Figure size 432x288 with 1 Axes>"
      ]
     },
     "metadata": {
      "needs_background": "light"
     },
     "output_type": "display_data"
    }
   ],
   "source": [
    "Plot2D(xy_probability,2) "
   ]
  },
  {
   "cell_type": "markdown",
   "id": "7247a146",
   "metadata": {},
   "source": [
    "<b>Protocol</b>: Hadamard walk 2D\n",
    "\n",
    "#### Coin operator\n",
    "\n",
    " $C \\ = \\ \\frac{1}{\\sqrt{2}}\\begin{pmatrix} 1 && 1 \\\\ -1 && 1 \\end{pmatrix} $\n",
    " \n",
    "#### Translation operators \n",
    " $Tx \\ = \\ \\displaystyle\\sum_{x} \\ \\lvert x \\ + \\ 1\\rangle\\langle x\\lvert  \\ \\otimes Iy \\otimes \\lvert R\\rangle\\langle R\\lvert  \\ \\otimes \\ + \\displaystyle\\sum_{x} \\ \\lvert x \\ - \\ 1\\rangle\\langle x\\lvert \\otimes Iy \\otimes\\ \\lvert L \\rangle\\langle L\\lvert  \\  $\n",
    " \n",
    "  $Ty \\ = Ix \\otimes \\ \\displaystyle\\sum_{y} \\ \\lvert y \\ + \\ 1\\rangle\\langle y\\lvert  \\ \\otimes \\ \\lvert R\\rangle\\langle R\\lvert  \\ + Ix \\otimes \\ \\displaystyle\\sum_{y} \\ \\lvert y \\ - \\ 1\\rangle\\langle y\\lvert \\otimes \\ \\lvert L \\rangle\\langle L\\lvert  \\ $\n",
    "#### Protocol \n",
    "$U \\ = \\ Ty Tx (C \\otimes Ix \\otimes Iy) $ \n",
    "\n"
   ]
  },
  {
   "cell_type": "markdown",
   "id": "748cfb6f",
   "metadata": {},
   "source": [
    "#### Tx"
   ]
  },
  {
   "cell_type": "code",
   "execution_count": 66,
   "id": "8ea3e683",
   "metadata": {},
   "outputs": [
    {
     "data": {
      "text/plain": [
       "(50, 50)"
      ]
     },
     "execution_count": 66,
     "metadata": {},
     "output_type": "execute_result"
    }
   ],
   "source": [
    "LPs = roll(iden, 1, axis=0)\n",
    "LP = kron(iden,kron(LPs, C00))\n",
    "\n",
    "LMs = roll(iden, -1, axis=0)\n",
    "LM = kron(iden, kron(LMs, C11))\n",
    "\n",
    "Tx = LP + LM\n",
    "shape(Tx)"
   ]
  },
  {
   "cell_type": "markdown",
   "id": "b17f172a",
   "metadata": {},
   "source": [
    "#### Ty"
   ]
  },
  {
   "cell_type": "code",
   "execution_count": 67,
   "id": "4b34ad59",
   "metadata": {},
   "outputs": [
    {
     "data": {
      "text/plain": [
       "(50, 50)"
      ]
     },
     "execution_count": 67,
     "metadata": {},
     "output_type": "execute_result"
    }
   ],
   "source": [
    "LPlus_ = eye(P)\n",
    "LPlus_ = LPlus_.tolist()\n",
    "LPluss = [row[1:] + row[:1] for row in LPlus_]\n",
    "LPlus = kron(LPluss, kron(eye(P), C00))\n",
    "\n",
    "LMinus_ = eye(P)\n",
    "LMinus_ = LMinus_.tolist()\n",
    "LMinuss = [row[-1:] + row[:-1] for row in LMinus_]\n",
    "LMinus = kron(LMinuss, kron(eye(P), C11))\n",
    "\n",
    "#Tx\n",
    "Ty = LPlus + LMinus\n",
    "\n",
    "shape(Ty)"
   ]
  },
  {
   "cell_type": "markdown",
   "id": "bb1b0431",
   "metadata": {},
   "source": [
    "#### Protocol"
   ]
  },
  {
   "cell_type": "code",
   "execution_count": 68,
   "id": "f273ad15",
   "metadata": {},
   "outputs": [
    {
     "data": {
      "text/plain": [
       "(50, 50)"
      ]
     },
     "execution_count": 68,
     "metadata": {},
     "output_type": "execute_result"
    }
   ],
   "source": [
    "#Protocol\n",
    "Coin = kron(eye(P), kron(eye(P),C))\n",
    "U = Ty.dot(Coin.dot(Tx.dot(Coin))) \n",
    "\n",
    "shape(U)\n"
   ]
  },
  {
   "cell_type": "markdown",
   "id": "1a06c666",
   "metadata": {},
   "source": [
    "#### Initial State"
   ]
  },
  {
   "cell_type": "code",
   "execution_count": 69,
   "id": "b0c80dcc",
   "metadata": {},
   "outputs": [],
   "source": [
    "initialPositionx = zeros(P)\n",
    "initialPositionx[N] = 1\n",
    "initialPositiony = zeros(P)\n",
    "initialPositiony[N] = 1\n",
    "\n",
    "psi0 = kron(initialPositionx,kron(initialPositiony,(ket0+ket1*1j)/sqrt(2.)))\n"
   ]
  },
  {
   "cell_type": "markdown",
   "id": "a64d9bfb",
   "metadata": {},
   "source": [
    "#### Final State"
   ]
  },
  {
   "cell_type": "code",
   "execution_count": 70,
   "id": "529b30df",
   "metadata": {},
   "outputs": [
    {
     "data": {
      "text/plain": [
       "(50,)"
      ]
     },
     "execution_count": 70,
     "metadata": {},
     "output_type": "execute_result"
    }
   ],
   "source": [
    "#State after N random quantum steps.\n",
    "psiN = linalg.matrix_power(U, N).dot(psi0) \n",
    "\n",
    "    \n",
    "shape(psiN)  "
   ]
  },
  {
   "cell_type": "markdown",
   "id": "ca04ae8f",
   "metadata": {},
   "source": [
    "#### Measurement"
   ]
  },
  {
   "cell_type": "code",
   "execution_count": 71,
   "id": "6546bc1a",
   "metadata": {},
   "outputs": [],
   "source": [
    "xy_probability = csr_matrix((P, P), dtype = float).toarray()\n",
    "for x in range(P):\n",
    "    positionx = zeros(P)\n",
    "    positionx[x] = 1\n",
    "    for y in range(P):\n",
    "        positiony = zeros(P)\n",
    "        positiony[y] = 1\n",
    "        for p in range(2): \n",
    "            polarization = zeros(2)\n",
    "            polarization[p] = 1\n",
    "            posn = kron(positionx,positiony) \n",
    "            M_hat_k = M_hat_k =kron(outer(posn,posn), eye(2)) \n",
    "            proj = M_hat_k.dot(psiN)\n",
    "            xy_probability[x][y] = proj.dot(proj.conjugate()).real\n"
   ]
  },
  {
   "cell_type": "code",
   "execution_count": 73,
   "id": "6609b282",
   "metadata": {},
   "outputs": [
    {
     "data": {
      "image/png": "[encoded data removed]",
      "text/plain": [
       "<Figure size 432x288 with 1 Axes>"
      ]
     },
     "metadata": {
      "needs_background": "light"
     },
     "output_type": "display_data"
    }
   ],
   "source": [
    "#Plot\n",
    "fig = figure()\n",
    "ax = fig.add_subplot(111)\n",
    "\n",
    "plot(arange(P), xy_probability)\n",
    "#plot(arange(P), xy_probability, 'o')\n",
    "title(\"N=2\")\n",
    "xlim(0, P)\n",
    "\n",
    "show()"
   ]
  },
  {
   "cell_type": "markdown",
   "id": "3e65a534",
   "metadata": {},
   "source": [
    "### Results"
   ]
  },
  {
   "cell_type": "code",
   "execution_count": 19,
   "id": "99cec89d",
   "metadata": {},
   "outputs": [
    {
     "data": {
      "text/plain": [
       "array([[0.25, 0.  , 0.25],\n",
       "       [0.  , 0.  , 0.  ],\n",
       "       [0.25, 0.  , 0.25]])"
      ]
     },
     "execution_count": 19,
     "metadata": {},
     "output_type": "execute_result"
    }
   ],
   "source": [
    "xy_probability #N =1 "
   ]
  },
  {
   "cell_type": "code",
   "execution_count": 20,
   "id": "61ac2fc8",
   "metadata": {},
   "outputs": [
    {
     "data": {
      "image/png": "[encoded data removed]",
      "text/plain": [
       "<Figure size 432x288 with 1 Axes>"
      ]
     },
     "metadata": {
      "needs_background": "light"
     },
     "output_type": "display_data"
    }
   ],
   "source": [
    "Plot2D(xy_probability,1) #-- N = 2 "
   ]
  },
  {
   "cell_type": "code",
   "execution_count": 40,
   "id": "35e04131",
   "metadata": {},
   "outputs": [
    {
     "data": {
      "text/plain": [
       "array([[0.0625, 0.    , 0.125 , 0.    , 0.0625],\n",
       "       [0.    , 0.    , 0.    , 0.    , 0.    ],\n",
       "       [0.125 , 0.    , 0.25  , 0.    , 0.125 ],\n",
       "       [0.    , 0.    , 0.    , 0.    , 0.    ],\n",
       "       [0.0625, 0.    , 0.125 , 0.    , 0.0625]])"
      ]
     },
     "execution_count": 40,
     "metadata": {},
     "output_type": "execute_result"
    }
   ],
   "source": [
    "xy_probability #N =2 "
   ]
  },
  {
   "cell_type": "code",
   "execution_count": 41,
   "id": "2752e907",
   "metadata": {},
   "outputs": [
    {
     "data": {
      "image/png": "[encoded data removed]",
      "text/plain": [
       "<Figure size 432x288 with 1 Axes>"
      ]
     },
     "metadata": {
      "needs_background": "light"
     },
     "output_type": "display_data"
    }
   ],
   "source": [
    "Plot2D(xy_probability,2) #-- N = 2"
   ]
  },
  {
   "cell_type": "code",
   "execution_count": 45,
   "id": "58a9dc59",
   "metadata": {},
   "outputs": [
    {
     "data": {
      "text/plain": [
       "array([[0.125, 0.   , 0.   , 0.   , 0.   , 0.   , 0.   ],\n",
       "       [0.   , 0.   , 0.   , 0.   , 0.   , 0.   , 0.   ],\n",
       "       [0.   , 0.   , 0.375, 0.   , 0.   , 0.   , 0.   ],\n",
       "       [0.   , 0.   , 0.   , 0.   , 0.   , 0.   , 0.   ],\n",
       "       [0.   , 0.   , 0.   , 0.   , 0.375, 0.   , 0.   ],\n",
       "       [0.   , 0.   , 0.   , 0.   , 0.   , 0.   , 0.   ],\n",
       "       [0.   , 0.   , 0.   , 0.   , 0.   , 0.   , 0.125]])"
      ]
     },
     "execution_count": 45,
     "metadata": {},
     "output_type": "execute_result"
    }
   ],
   "source": [
    "xy_probability #N =3 "
   ]
  },
  {
   "cell_type": "code",
   "execution_count": 46,
   "id": "0ffc5f59",
   "metadata": {},
   "outputs": [
    {
     "data": {
      "image/png": "[encoded data removed]",
      "text/plain": [
       "<Figure size 432x288 with 1 Axes>"
      ]
     },
     "metadata": {
      "needs_background": "light"
     },
     "output_type": "display_data"
    }
   ],
   "source": [
    "Plot2D(xy_probability,3) #-- N = 2"
   ]
  },
  {
   "cell_type": "code",
   "execution_count": 73,
   "id": "b0f29c7c",
   "metadata": {},
   "outputs": [
    {
     "data": {
      "image/png": "[encoded data removed]",
      "text/plain": [
       "<Figure size 432x288 with 1 Axes>"
      ]
     },
     "metadata": {
      "needs_background": "light"
     },
     "output_type": "display_data"
    }
   ],
   "source": [
    "Plot2D(xy_probability,10) #-- N = 10"
   ]
  },
  {
   "cell_type": "code",
   "execution_count": null,
   "id": "4f0e8d9d",
   "metadata": {},
   "outputs": [],
   "source": []
  }
 ],
 "metadata": {
  "kernelspec": {
   "display_name": "Python 3",
   "language": "python",
   "name": "python3"
  },
  "language_info": {
   "codemirror_mode": {
    "name": "ipython",
    "version": 3
   },
   "file_extension": ".py",
   "mimetype": "text/x-python",
   "name": "python",
   "nbconvert_exporter": "python",
   "pygments_lexer": "ipython3",
   "version": "3.8.8"
  }
 },
 "nbformat": 4,
 "nbformat_minor": 5
}
